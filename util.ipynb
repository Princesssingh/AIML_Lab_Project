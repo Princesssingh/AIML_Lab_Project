{
 "cells": [
  {
   "cell_type": "code",
   "execution_count": 1,
   "id": "8f563e85",
   "metadata": {},
   "outputs": [
    {
     "name": "stdout",
     "output_type": "stream",
     "text": [
      "Loading saved artifacts...start\n",
      "Loading saved artifacts...done\n"
     ]
    }
   ],
   "source": [
    "import pickle\n",
    "import json\n",
    "import numpy as np\n",
    "\n",
    "__locations = None\n",
    "__data_columns = None\n",
    "__model = None\n",
    "\n",
    "\n",
    "# Pass form data to prediction model\n",
    "def get_estimated_price(location, sqft, bhk, bath):\n",
    "    try:\n",
    "        loc_index = __data_columns.index(location.lower())\n",
    "    except:\n",
    "        loc_index = -1\n",
    "\n",
    "    x = np.zeros(len(__data_columns))\n",
    "    x[0] = sqft\n",
    "    x[1] = bath\n",
    "    x[2] = bhk\n",
    "    if loc_index >= 0:\n",
    "        x[loc_index] = 1\n",
    "\n",
    "    return round(__model.predict([x])[0], 2)\n",
    "\n",
    "\n",
    "def load_saved_artifacts():  # Load the pickle and json file\n",
    "    print(\"Loading saved artifacts...start\")\n",
    "    global __data_columns\n",
    "    global __locations\n",
    "\n",
    "    with open(\"columns.json\", \"r\") as f:\n",
    "        __data_columns = json.load(f)['data_columns']\n",
    "        __locations = __data_columns[3:]  # locations start from 4 column\n",
    "\n",
    "    global __model\n",
    "    if __model is None:\n",
    "        with open('Bengaluru_House_Data.pickle', 'rb') as f:\n",
    "            __model = pickle.load(f)\n",
    "    print(\"Loading saved artifacts...done\")\n",
    "\n",
    "\n",
    "def get_location_names():\n",
    "    return __locations\n",
    "\n",
    "\n",
    "def get_data_columns():\n",
    "    return __data_columns\n",
    "\n",
    "\n",
    "if __name__ == '__main__':\n",
    "    load_saved_artifacts()"
   ]
  },
  {
   "cell_type": "code",
   "execution_count": null,
   "id": "b3467f38",
   "metadata": {},
   "outputs": [],
   "source": []
  }
 ],
 "metadata": {
  "kernelspec": {
   "display_name": "Python 3 (ipykernel)",
   "language": "python",
   "name": "python3"
  },
  "language_info": {
   "codemirror_mode": {
    "name": "ipython",
    "version": 3
   },
   "file_extension": ".py",
   "mimetype": "text/x-python",
   "name": "python",
   "nbconvert_exporter": "python",
   "pygments_lexer": "ipython3",
   "version": "3.9.13"
  }
 },
 "nbformat": 4,
 "nbformat_minor": 5
}
